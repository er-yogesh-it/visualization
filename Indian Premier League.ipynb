{
 "cells": [
  {
   "cell_type": "markdown",
   "metadata": {},
   "source": [
    "### INDIAN PREMIER LEAGUE DATA SET (2008 - 2016)"
   ]
  },
  {
   "cell_type": "markdown",
   "metadata": {
    "collapsed": true
   },
   "source": [
    "#### This Dataset contains 6 csv files. \n",
    "1. Ball_By_Ball.csv : Ball by Ball analysis of all matches played.\n",
    "2. Match.csv: Details of all 577 matches played.\n",
    "3. Player.csv: Details about all 524 players involving umpires.\n",
    "4. Player_Match.csv: specifies the match, player and team Ids.\n",
    "5. Season.csv: Players who got the orange cap, purple cap and man of the series award over all the years.\n",
    "6. Team.csv: specifies ll teams with their Ids.\n"
   ]
  },
  {
   "cell_type": "markdown",
   "metadata": {},
   "source": [
    "#### In this NoteBook, I am aiming to answer 10 most Important questions related to this IPL Dataset.\n",
    "##### 1. How many runs were scored by each Team over the last 9 years of IPL?\n",
    "##### 2. What was the win percentage of each Team played in an IPL?\n",
    "##### 3. Which teams performed consistently well over all the years?\n",
    "##### 4. Which players were given the tag name as “Run making machines”?\n",
    "##### 5. Who got a maximum number of man of the match awards?\n",
    "##### 6. Who was the top wicket taking bowler in an IPL?\n",
    "##### 7. How many leagues and knockout matches were played in the IPL in the last 9 years?\n",
    "##### 8. Which season witnessed the maximum number of sixes hit against the number of matches played in the Season?\n",
    "##### 9. Finding the number of matches which were very close?\n",
    "##### 10. Which country did best in which department of cricket in the IPL?"
   ]
  },
  {
   "cell_type": "code",
   "execution_count": 3,
   "metadata": {
    "collapsed": true
   },
   "outputs": [],
   "source": [
    "import pandas as pd\n",
    "from plotly import __version__\n",
    "import plotly.offline as offline\n",
    "from plotly.offline import download_plotlyjs, init_notebook_mode, plot, iplot"
   ]
  },
  {
   "cell_type": "code",
   "execution_count": 4,
   "metadata": {
    "collapsed": false
   },
   "outputs": [
    {
     "data": {
      "text/html": [
       "<script>requirejs.config({paths: { 'plotly': ['https://cdn.plot.ly/plotly-latest.min']},});if(!window.Plotly) {{require(['plotly'],function(plotly) {window.Plotly=plotly;});}}</script>"
      ],
      "text/vnd.plotly.v1+html": [
       "<script>requirejs.config({paths: { 'plotly': ['https://cdn.plot.ly/plotly-latest.min']},});if(!window.Plotly) {{require(['plotly'],function(plotly) {window.Plotly=plotly;});}}</script>"
      ]
     },
     "metadata": {},
     "output_type": "display_data"
    }
   ],
   "source": [
    "username=\"eryogesh1985\"\n",
    "password=\"ZHxwDPVxCjonqdKWVB3a\"\n",
    "import plotly\n",
    "plotly.tools.set_credentials_file(username='eryogesh1985', api_key='ZHxwDPVxCjonqdKWVB3a')\n",
    "init_notebook_mode(connected=True)"
   ]
  },
  {
   "cell_type": "code",
   "execution_count": 5,
   "metadata": {
    "collapsed": false
   },
   "outputs": [],
   "source": [
    "#Reading csv files\n",
    "ball_by_ball = pd.read_csv(\"Ball_by_Ball.csv\")\n",
    "match=pd.read_csv(\"Match.csv\")\n",
    "player_match=pd.read_csv(\"Player_Match.csv\")\n",
    "player=pd.read_csv(\"Player.csv\")\n",
    "season=pd.read_csv(\"Season.csv\")\n",
    "team=pd.read_csv(\"Team.csv\")"
   ]
  },
  {
   "cell_type": "code",
   "execution_count": null,
   "metadata": {
    "collapsed": true
   },
   "outputs": [],
   "source": []
  }
 ],
 "metadata": {
  "kernelspec": {
   "display_name": "Python 3",
   "language": "python",
   "name": "python3"
  },
  "language_info": {
   "codemirror_mode": {
    "name": "ipython",
    "version": 3
   },
   "file_extension": ".py",
   "mimetype": "text/x-python",
   "name": "python",
   "nbconvert_exporter": "python",
   "pygments_lexer": "ipython3",
   "version": "3.6.3"
  }
 },
 "nbformat": 4,
 "nbformat_minor": 2
}
